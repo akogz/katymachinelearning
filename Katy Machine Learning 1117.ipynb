{
 "cells": [
  {
   "cell_type": "markdown",
   "metadata": {
    "slideshow": {
     "slide_type": "notes"
    }
   },
   "source": [
    "# Dimensionalty Reduction \n"
   ]
  },
  {
   "cell_type": "markdown",
   "metadata": {
    "slideshow": {
     "slide_type": "notes"
    }
   },
   "source": [
    "-Machine Learning problems invlove thousands or even millions of features. \n",
    "\n",
    "-This makes the model really slow\n",
    "\n",
    "-Sometimes, it's harder' to find good solutions \n",
    "\n",
    "-Dimensionalty Reduction is a way to reduce these features into a few features without loosing information\n",
    "\n",
    "-Two Methods\n",
    "\n",
    "   Feature Selection\n",
    "    \n",
    "      1. Univariate Selection\n",
    "      2. Recursive Feature Elimination\n",
    "      3. Feature Importance\n",
    "      4. Forward Selection(Not in sklearn)\n",
    "      5. Backward Regression(Not in Sklearn)\n",
    "      6.LASSO Regression\n",
    "      7.Adaptive LASSO Regression\n",
    "   Feature Extraction\n",
    "    \n",
    "      1. Principal Component Analysis\n",
    "      2.Linear Discriminant Analysis\n",
    "      "
   ]
  },
  {
   "cell_type": "markdown",
   "metadata": {},
   "source": [
    "## Univariate Selection\n",
    "\n",
    "-Involves using statistical test to select features that have the strongest relationship with the output variable/target.\n",
    "\n",
    "-Sklearn has SelectKBest that can be used with  statistical tests to select features.\n",
    "\n",
    "-We use chisquare in the example below"
   ]
  },
  {
   "cell_type": "code",
   "execution_count": 30,
   "metadata": {
    "collapsed": false
   },
   "outputs": [
    {
     "name": "stdout",
     "output_type": "stream",
     "text": [
      "    preg  plas  pres  skin  test  mass   pedi  age  class\n",
      "0      6   148    72    35     0  33.6  0.627   50      1\n",
      "1      1    85    66    29     0  26.6  0.351   31      0\n",
      "2      8   183    64     0     0  23.3  0.672   32      1\n",
      "3      1    89    66    23    94  28.1  0.167   21      0\n",
      "4      0   137    40    35   168  43.1  2.288   33      1\n",
      "5      5   116    74     0     0  25.6  0.201   30      0\n",
      "6      3    78    50    32    88  31.0  0.248   26      1\n",
      "7     10   115     0     0     0  35.3  0.134   29      0\n",
      "8      2   197    70    45   543  30.5  0.158   53      1\n",
      "9      8   125    96     0     0   0.0  0.232   54      1\n",
      "10     4   110    92     0     0  37.6  0.191   30      0\n",
      "11    10   168    74     0     0  38.0  0.537   34      1\n",
      "12    10   139    80     0     0  27.1  1.441   57      0\n",
      "13     1   189    60    23   846  30.1  0.398   59      1\n",
      "14     5   166    72    19   175  25.8  0.587   51      1\n",
      "15     7   100     0     0     0  30.0  0.484   32      1\n",
      "16     0   118    84    47   230  45.8  0.551   31      1\n",
      "17     7   107    74     0     0  29.6  0.254   31      1\n",
      "18     1   103    30    38    83  43.3  0.183   33      0\n",
      "19     1   115    70    30    96  34.6  0.529   32      1\n",
      "(768, 9)\n",
      "SelectKBest(k=4, score_func=<function chi2 at 0x0000024BDC3FE598>)\n",
      "[  111.51969064  1411.88704064    17.60537322    53.10803984  2175.56527292\n",
      "   127.66934333     5.39268155   181.30368904]\n",
      "[[ 148.     0.    33.6   50. ]\n",
      " [  85.     0.    26.6   31. ]\n",
      " [ 183.     0.    23.3   32. ]\n",
      " [  89.    94.    28.1   21. ]\n",
      " [ 137.   168.    43.1   33. ]]\n"
     ]
    }
   ],
   "source": [
    "# Univariate Selection using sklearn\n",
    "import pandas as pd\n",
    "from sklearn.feature_selection import SelectKBest\n",
    "\n",
    "from sklearn.feature_selection import chi2\n",
    "\n",
    "filename='C:\\\\Users\\\\akoguab\\\\Desktop\\\\R and D\\\\Data science\\\\data set\\\\pimas.csv'\n",
    "names= ['preg', 'plas', 'pres', 'skin', 'test','mass', 'pedi','age','class']\n",
    "\n",
    "dataset=pd.read_csv(filename,names=names)\n",
    "\n",
    "# First 20 rows of your data\n",
    "\n",
    "print(dataset.head(20))\n",
    "\n",
    "# dimensions of your data\n",
    "\n",
    "print(dataset.shape)\n",
    "\n",
    "array=dataset.values\n",
    "X=array[:,0:8]\n",
    "Y=array[:,8]\n",
    "\n",
    "# Feature Selection\n",
    "\n",
    "test= SelectKBest(score_func=chi2,k=4)\n",
    "\n",
    "#print(test)\n",
    "fit=test.fit(X,Y)\n",
    "\n",
    "print(fit.scores_)\n",
    "\n",
    "features=fit.transform(X)\n",
    "print(features[0:5,:])\n",
    "\n",
    "\n"
   ]
  },
  {
   "cell_type": "markdown",
   "metadata": {},
   "source": [
    "-The highest scores are plas, test, mass, age\n",
    "\n",
    "-The features from the 4 chosen features are shown"
   ]
  },
  {
   "cell_type": "markdown",
   "metadata": {},
   "source": [
    "## Recursive Feature Extraction(RFE)\n",
    "\n",
    "-Works by Recursively removing atrributes and builds a models on the remaining atrributes\n",
    "\n",
    "-It uses the model accuracy to identify which atrributes ( and combination of atrributes) contributes the most to predicting the target value.\n",
    "\n",
    "-The example below use Logistic Regression and RFE to select top 3 features(preg,mass,pedi)\n",
    "\n"
   ]
  },
  {
   "cell_type": "code",
   "execution_count": 9,
   "metadata": {
    "collapsed": false
   },
   "outputs": [
    {
     "name": "stdout",
     "output_type": "stream",
     "text": [
      "    preg  plas  pres  skin  test  mass   pedi  age  class\n",
      "0      6   148    72    35     0  33.6  0.627   50      1\n",
      "1      1    85    66    29     0  26.6  0.351   31      0\n",
      "2      8   183    64     0     0  23.3  0.672   32      1\n",
      "3      1    89    66    23    94  28.1  0.167   21      0\n",
      "4      0   137    40    35   168  43.1  2.288   33      1\n",
      "5      5   116    74     0     0  25.6  0.201   30      0\n",
      "6      3    78    50    32    88  31.0  0.248   26      1\n",
      "7     10   115     0     0     0  35.3  0.134   29      0\n",
      "8      2   197    70    45   543  30.5  0.158   53      1\n",
      "9      8   125    96     0     0   0.0  0.232   54      1\n",
      "10     4   110    92     0     0  37.6  0.191   30      0\n",
      "11    10   168    74     0     0  38.0  0.537   34      1\n",
      "12    10   139    80     0     0  27.1  1.441   57      0\n",
      "13     1   189    60    23   846  30.1  0.398   59      1\n",
      "14     5   166    72    19   175  25.8  0.587   51      1\n",
      "15     7   100     0     0     0  30.0  0.484   32      1\n",
      "16     0   118    84    47   230  45.8  0.551   31      1\n",
      "17     7   107    74     0     0  29.6  0.254   31      1\n",
      "18     1   103    30    38    83  43.3  0.183   33      0\n",
      "19     1   115    70    30    96  34.6  0.529   32      1\n",
      "(768, 9)\n",
      "Number of features :  3\n",
      "Selected Features [ True False False False False  True  True False]\n",
      "Ranking of Features [1 2 3 5 6 1 1 4]\n"
     ]
    }
   ],
   "source": [
    "# RFE\n",
    "import pandas as pd\n",
    "from sklearn.feature_selection import RFE\n",
    "from sklearn.linear_model import LogisticRegression\n",
    "#from sklearn.feature_selection import chi2\n",
    "\n",
    "filename='C:\\\\Users\\\\akoguab\\\\Desktop\\\\R and D\\\\Data science\\\\data set\\\\pimas.csv'\n",
    "names= ['preg', 'plas', 'pres', 'skin', 'test','mass', 'pedi','age','class']\n",
    "\n",
    "dataset=pd.read_csv(filename,names=names)\n",
    "\n",
    "# First 20 rows of your data\n",
    "\n",
    "print(dataset.head(20))\n",
    "\n",
    "# dimensions of your data\n",
    "\n",
    "print(dataset.shape)\n",
    "\n",
    "array=dataset.values\n",
    "X=array[:,0:8]\n",
    "Y=array[:,8]\n",
    "\n",
    "model=LogisticRegression()\n",
    "\n",
    "rfe=RFE(model,3)\n",
    "\n",
    "fit=rfe.fit(X,Y)\n",
    "\n",
    "print(\"Number of features : \",fit.n_features_)\n",
    "\n",
    "print(\"Selected Features\", fit.support_)\n",
    "\n",
    "print(\"Ranking of Features\", fit.ranking_)\n",
    "\n",
    "\n"
   ]
  },
  {
   "cell_type": "markdown",
   "metadata": {},
   "source": [
    "## Feature Importance\n",
    "\n",
    "-Bagged Decison Trees like Random Forest and Extra Trees can be used to estimate the importance of features\n",
    "\n",
    "-Example below using Extra Classifier and Random Forest has Plas, age and mass as the 3 most important features"
   ]
  },
  {
   "cell_type": "code",
   "execution_count": 31,
   "metadata": {
    "collapsed": false
   },
   "outputs": [
    {
     "name": "stdout",
     "output_type": "stream",
     "text": [
      "    preg  plas  pres  skin  test  mass   pedi  age  class\n",
      "0      6   148    72    35     0  33.6  0.627   50      1\n",
      "1      1    85    66    29     0  26.6  0.351   31      0\n",
      "2      8   183    64     0     0  23.3  0.672   32      1\n",
      "3      1    89    66    23    94  28.1  0.167   21      0\n",
      "4      0   137    40    35   168  43.1  2.288   33      1\n",
      "5      5   116    74     0     0  25.6  0.201   30      0\n",
      "6      3    78    50    32    88  31.0  0.248   26      1\n",
      "7     10   115     0     0     0  35.3  0.134   29      0\n",
      "8      2   197    70    45   543  30.5  0.158   53      1\n",
      "9      8   125    96     0     0   0.0  0.232   54      1\n",
      "10     4   110    92     0     0  37.6  0.191   30      0\n",
      "11    10   168    74     0     0  38.0  0.537   34      1\n",
      "12    10   139    80     0     0  27.1  1.441   57      0\n",
      "13     1   189    60    23   846  30.1  0.398   59      1\n",
      "14     5   166    72    19   175  25.8  0.587   51      1\n",
      "15     7   100     0     0     0  30.0  0.484   32      1\n",
      "16     0   118    84    47   230  45.8  0.551   31      1\n",
      "17     7   107    74     0     0  29.6  0.254   31      1\n",
      "18     1   103    30    38    83  43.3  0.183   33      0\n",
      "19     1   115    70    30    96  34.6  0.529   32      1\n",
      "(768, 9)\n",
      "Model Importance using Extra Classifier [ 0.11150512  0.23811367  0.09782034  0.0729453   0.07671828  0.16019532\n",
      "  0.11641519  0.12628678]\n",
      "Model Importance using Random Forest [ 0.08482089  0.25098323  0.09737423  0.06194788  0.08471497  0.14844741\n",
      "  0.13418332  0.13752806]\n"
     ]
    }
   ],
   "source": [
    "import pandas as pd\n",
    "from sklearn.ensemble import ExtraTreesClassifier\n",
    "from sklearn.ensemble import RandomForestClassifier\n",
    "\n",
    "#from sklearn.feature_selection import chi2\n",
    "\n",
    "filename='C:\\\\Users\\\\akoguab\\\\Desktop\\\\R and D\\\\Data science\\\\data set\\\\pimas.csv'\n",
    "names= ['preg', 'plas', 'pres', 'skin', 'test','mass', 'pedi','age','class']\n",
    "\n",
    "dataset=pd.read_csv(filename,names=names)\n",
    "\n",
    "# First 20 rows of your data\n",
    "\n",
    "print(dataset.head(20))\n",
    "\n",
    "# dimensions of your data\n",
    "\n",
    "print(dataset.shape)\n",
    "\n",
    "array=dataset.values\n",
    "X=array[:,0:8]\n",
    "Y=array[:,8]\n",
    "\n",
    "\n",
    "\n",
    "model=ExtraTreesClassifier()\n",
    "model.fit(X,Y)\n",
    "\n",
    "# Print Feature Importance with Extra Tree Classifier\n",
    "\n",
    "print(\"Model Importance using Extra Classifier\",model.feature_importances_)\n",
    "\n",
    "\n",
    "#Feature Importance with Random Forest Classifier\n",
    "\n",
    "\n",
    "model2=RandomForestClassifier()\n",
    "model2.fit(X,Y)\n",
    "\n",
    "# Print Feature Importance\n",
    "\n",
    "print(\"Model Importance using Random Forest\",model2.feature_importances_)\n",
    "\n",
    "\n"
   ]
  },
  {
   "cell_type": "markdown",
   "metadata": {},
   "source": [
    "## Principal Component Analysis\n",
    "\n",
    "-Most Popular dimenstionalty reduction algorithm\n",
    "\n",
    "-Suppose you are interested in using linear models to determine relationship between a set of features/predictors and a response variable\n",
    "\n",
    "-If there is collinearity amongst your predictor variables\n",
    "\n",
    "-Collinearity amongst your variables might cause unstable models\n",
    "\n",
    "-PCA is a variable reduction strategy\n",
    "\n",
    "-In PCA, we create a weighted linear combinations of variables while retaining most of the variability in the data\n",
    "\n",
    "-Lead to fewer variables with little or no lost information\n",
    "\n",
    "-PCA retains most of the information in a high dimenstion data by transforming the data\n",
    "\n",
    "-Most of the variability in the origianl data can be retained.\n",
    "\n",
    "-Components might not be directly interpretable.\n",
    "\n",
    "-Resulting component scores can be used as input to subsequent analysis\n",
    "\n",
    "-New variables are un-correlated\n",
    "\n",
    "-Performs Eigen value decomposition of the correlation or covariance matrix\n",
    "\n",
    "-It creates components that consolidate more of the explained variance into the first few PCs.\n",
    "\n",
    "-PCs are mutually orthogonal and independent\n",
    "\n",
    "-Generated so that the first PCs accounts for most of the variation in the data followed by the second PC and so on.\n",
    "\n",
    "\n",
    "-Principal components provides least square estimates of the form Y=XB\n",
    "\n",
    "-Y is n by p component of scores\n",
    "\n",
    "-X is n by j matrix of observed variables\n",
    "\n",
    "-B is j by p matrix of eigen vectors of the correlation or covariance matrix of variables\n",
    "\n",
    "-A scree plot of eigen values can be used to decide how many components to retain.\n",
    "\n"
   ]
  },
  {
   "cell_type": "code",
   "execution_count": 33,
   "metadata": {
    "collapsed": false
   },
   "outputs": [
    {
     "name": "stdout",
     "output_type": "stream",
     "text": [
      "    preg  plas  pres  skin  test  mass   pedi  age  class\n",
      "0      6   148    72    35     0  33.6  0.627   50      1\n",
      "1      1    85    66    29     0  26.6  0.351   31      0\n",
      "2      8   183    64     0     0  23.3  0.672   32      1\n",
      "3      1    89    66    23    94  28.1  0.167   21      0\n",
      "4      0   137    40    35   168  43.1  2.288   33      1\n",
      "5      5   116    74     0     0  25.6  0.201   30      0\n",
      "6      3    78    50    32    88  31.0  0.248   26      1\n",
      "7     10   115     0     0     0  35.3  0.134   29      0\n",
      "8      2   197    70    45   543  30.5  0.158   53      1\n",
      "9      8   125    96     0     0   0.0  0.232   54      1\n",
      "10     4   110    92     0     0  37.6  0.191   30      0\n",
      "11    10   168    74     0     0  38.0  0.537   34      1\n",
      "12    10   139    80     0     0  27.1  1.441   57      0\n",
      "13     1   189    60    23   846  30.1  0.398   59      1\n",
      "14     5   166    72    19   175  25.8  0.587   51      1\n",
      "15     7   100     0     0     0  30.0  0.484   32      1\n",
      "16     0   118    84    47   230  45.8  0.551   31      1\n",
      "17     7   107    74     0     0  29.6  0.254   31      1\n",
      "18     1   103    30    38    83  43.3  0.183   33      0\n",
      "19     1   115    70    30    96  34.6  0.529   32      1\n",
      "(768, 9)\n",
      "Explained Variance ratio [ 0.26179749  0.21640127  0.12870373  0.10944113  0.09529305]\n",
      "Explained variance/Eigenvalues [ 2.09437995  1.73121014  1.02962987  0.87552904  0.76234439]\n",
      "Components/eigen vectors [[ 0.1284321   0.39308257  0.36000261  0.43982428  0.43502617  0.45194134\n",
      "   0.27061144  0.19802707]\n",
      " [ 0.59378583  0.17402908  0.18389207 -0.33196534 -0.25078106 -0.1009598\n",
      "  -0.122069    0.62058853]\n",
      " [-0.01308692  0.46792282 -0.53549442 -0.2376738   0.33670893 -0.36186463\n",
      "   0.43318905  0.07524755]\n",
      " [ 0.08069115 -0.40432871  0.05598649  0.03797608 -0.34994376  0.05364595\n",
      "   0.8336801   0.0712006 ]\n",
      " [-0.47560573  0.46632804  0.32795306 -0.48786206 -0.34693481  0.25320376\n",
      "   0.11981049 -0.10928996]]\n",
      "[ 26.18  47.82  60.69  71.63  81.16]\n"
     ]
    },
    {
     "data": {
      "image/png": "[encoded data removed]",
      "text/plain": [
       "<matplotlib.figure.Figure at 0x24bdf056198>"
      ]
     },
     "metadata": {},
     "output_type": "display_data"
    }
   ],
   "source": [
    "import pandas as pd\n",
    "import numpy as np\n",
    "import matplotlib.pyplot as plt\n",
    "from sklearn.decomposition import PCA\n",
    "\n",
    "#from sklearn.feature_selection import chi2\n",
    "\n",
    "filename='C:\\\\Users\\\\akoguab\\\\Desktop\\\\R and D\\\\Data science\\\\data set\\\\pimas.csv'\n",
    "names= ['preg', 'plas', 'pres', 'skin', 'test','mass', 'pedi','age','class']\n",
    "\n",
    "dataset=pd.read_csv(filename,names=names)\n",
    "\n",
    "# First 20 rows of your data\n",
    "\n",
    "print(dataset.head(20))\n",
    "\n",
    "# dimensions of your data\n",
    "\n",
    "print(dataset.shape)\n",
    "\n",
    "array=dataset.values\n",
    "X=array[:,0:8]\n",
    "Y=array[:,8]\n",
    "\n",
    "from sklearn.preprocessing import scale\n",
    "X=scale(X)\n",
    "\n",
    "pca=PCA(n_components=.8)\n",
    "#pca=PCA(n_components=3)\n",
    "fit=pca.fit(X)\n",
    "\n",
    "print(\"Explained Variance ratio\",fit.explained_variance_ratio_)\n",
    "print(\"Explained variance/Eigenvalues\",pca.explained_variance_)\n",
    "print(\"Components/eigen vectors\",pca.components_)\n",
    "\n",
    "var=np.cumsum(np.round(pca.explained_variance_ratio_, decimals=4)*100)\n",
    "\n",
    "print(var)\n",
    "\n",
    "plt.plot(var)\n",
    "\n",
    "plt.show()\n",
    "#print(fit.components_)"
   ]
  },
  {
   "cell_type": "code",
   "execution_count": null,
   "metadata": {
    "collapsed": true
   },
   "outputs": [],
   "source": []
  }
 ],
 "metadata": {
  "kernelspec": {
   "display_name": "Python 3",
   "language": "python",
   "name": "python3"
  },
  "language_info": {
   "codemirror_mode": {
    "name": "ipython",
    "version": 3
   },
   "file_extension": ".py",
   "mimetype": "text/x-python",
   "name": "python",
   "nbconvert_exporter": "python",
   "pygments_lexer": "ipython3",
   "version": "3.6.0"
  }
 },
 "nbformat": 4,
 "nbformat_minor": 2
}
